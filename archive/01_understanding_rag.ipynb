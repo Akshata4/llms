{
 "cells": [
  {
   "cell_type": "code",
   "execution_count": null,
   "id": "f4f3f355",
   "metadata": {},
   "outputs": [],
   "source": []
  },
  {
   "cell_type": "code",
   "execution_count": null,
   "id": "483f5d2e",
   "metadata": {},
   "outputs": [],
   "source": []
  },
  {
   "cell_type": "code",
   "execution_count": null,
   "id": "bc766fb7",
   "metadata": {},
   "outputs": [],
   "source": []
  },
  {
   "cell_type": "code",
   "execution_count": null,
   "id": "b3cf4771",
   "metadata": {},
   "outputs": [],
   "source": []
  },
  {
   "cell_type": "code",
   "execution_count": null,
   "id": "a379b697",
   "metadata": {},
   "outputs": [],
   "source": []
  },
  {
   "cell_type": "markdown",
   "id": "a6a55c9f",
   "metadata": {},
   "source": [
    "## Learnings from Ankur"
   ]
  },
  {
   "cell_type": "code",
   "execution_count": 6,
   "id": "e71ab542",
   "metadata": {},
   "outputs": [
    {
     "name": "stdout",
     "output_type": "stream",
     "text": [
      "<re.Match object; span=(26, 43), match='akshata@gmail.com'>\n",
      "Akshata is a pretty girl\n"
     ]
    }
   ],
   "source": [
    "query = \"Give me all details about akshata@gmail.com?\"\n",
    "\n",
    "def get_details(email):\n",
    "    # Simulate fetching details from a database or API\n",
    "    details = {\n",
    "        \"akshata@gmail.com\" : \"Akshata is a pretty girl\",\n",
    "        \"ankur@gmail.com\": \"Ankur is a bad boy\"}\n",
    "    \n",
    "    return details.get(email, \"No details found for this email.\")\n",
    "\n",
    "import re\n",
    "\n",
    "email_regex = r'[a-zA-Z0-9._%+-]+@[a-zA-Z0-9.-]+\\.[a-zA-Z]{2,}'\n",
    "email_match = re.search(email_regex, query)\n",
    "print(email_match)\n",
    "if email_match:\n",
    "    email = email_match.group(0)\n",
    "    details = get_details(email)\n",
    "    print(details)"
   ]
  },
  {
   "cell_type": "code",
   "execution_count": null,
   "id": "47afe3a9",
   "metadata": {},
   "outputs": [
    {
     "ename": "SyntaxError",
     "evalue": "invalid syntax. Perhaps you forgot a comma? (3898003474.py, line 11)",
     "output_type": "error",
     "traceback": [
      "  \u001b[36mCell\u001b[39m\u001b[36m \u001b[39m\u001b[32mIn[7]\u001b[39m\u001b[32m, line 11\u001b[39m\n\u001b[31m    \u001b[39m\u001b[31mdistances[record[\"id\"]] = similarity_vec(query_vector, record[\"embedding\"]) + similarity_keyword(query, record[])\u001b[39m\n                                                                                                            ^\n\u001b[31mSyntaxError\u001b[39m\u001b[31m:\u001b[39m invalid syntax. Perhaps you forgot a comma?\n"
     ]
    }
   ],
   "source": [
    "vector_store = [\n",
    "    {\"id\": 1, \"text\": \"ranodm text about\", \"metadata\": {\"source\": \"doc1.txt\"}, \"embedding\": [0.1, 0.2, 0.3]},\n",
    "    {\"id\": 2, \"text\": \"akshata is a\", \"metadata\": {\"source\": \"doc2.txt\"}, \"embedding\": [0.4, 0.5, 0.6]},\n",
    "]\n",
    "\n",
    "search_query = \"akshata\"\n",
    "def search_vector_store(query, k=5):\n",
    "    query_vector = embedding_model(query) # [0.1, 08, 0.9]\n",
    "    distances = {}\n",
    "    for record in vector_store.filter({\"metadata\":{\"userID\": \"akshata\"}}):\n",
    "        distances[record[\"id\"]] = 0.8* similarity_vec(query_vector, record[\"embedding\"]) + (1-0.8)*similarity_keyword(query, record[\"text\"])\n",
    "    \n",
    "    # distance = {1: 0.8, 2:0.9}\n",
    "    topk = sorted(distances.items(), lambda x: x[1], reverse=True)[:k]\n",
    "    return topk # [(vector_store[2], 0.9), (vector_store[1], 0.8)]\n",
    "\n",
    "context = \"\"\n",
    "for records in topk:\n",
    "    context += \"\\n\\n\" + records[0][\"text\"]\n",
    "\n",
    "search_query + context = \"ranodm text about \\n\\n akshata is a\"\n"
   ]
  },
  {
   "cell_type": "code",
   "execution_count": null,
   "id": "0977142a",
   "metadata": {},
   "outputs": [],
   "source": []
  }
 ],
 "metadata": {
  "kernelspec": {
   "display_name": "llms",
   "language": "python",
   "name": "python3"
  },
  "language_info": {
   "codemirror_mode": {
    "name": "ipython",
    "version": 3
   },
   "file_extension": ".py",
   "mimetype": "text/x-python",
   "name": "python",
   "nbconvert_exporter": "python",
   "pygments_lexer": "ipython3",
   "version": "3.12.3"
  }
 },
 "nbformat": 4,
 "nbformat_minor": 5
}
