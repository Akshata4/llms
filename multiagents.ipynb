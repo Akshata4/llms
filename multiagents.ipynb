{
  "nbformat": 4,
  "nbformat_minor": 0,
  "metadata": {
    "colab": {
      "provenance": [],
      "authorship_tag": "ABX9TyNqhsIQWJIe+Iw6td7y5itp",
      "include_colab_link": true
    },
    "kernelspec": {
      "name": "python3",
      "display_name": "Python 3"
    },
    "language_info": {
      "name": "python"
    }
  },
  "cells": [
    {
      "cell_type": "markdown",
      "metadata": {
        "id": "view-in-github",
        "colab_type": "text"
      },
      "source": [
        "<a href=\"https://colab.research.google.com/github/Akshata4/llms/blob/main/multiagents.ipynb\" target=\"_parent\"><img src=\"https://colab.research.google.com/assets/colab-badge.svg\" alt=\"Open In Colab\"/></a>"
      ]
    },
    {
      "cell_type": "code",
      "execution_count": null,
      "metadata": {
        "colab": {
          "base_uri": "https://localhost:8080/"
        },
        "id": "tdsBLWZnHqQu",
        "outputId": "bd25030d-fd28-4081-9d86-de2eaa1705ad"
      },
      "outputs": [
        {
          "name": "stdout",
          "output_type": "stream",
          "text": [
            "🤖 Homework Helper Bot: Ask me your question! (type 'quit' to exit)\n",
            "\n",
            "You: add 5 and 4\n",
            "Bot: The answer is 4\n",
            "You: science\n",
            "Bot: I'm your Science helper! Ask me about biology, physics, or chemistry.\n",
            "You: noun\n",
            "Bot: A noun is a word that names a person, place, or thing.\n",
            "You: add\n",
            "Bot: I can help with math problems like addition or multiplication!\n",
            "You: 4+5\n",
            "Bot: The answer is 9\n",
            "You: quit\n"
          ]
        }
      ],
      "source": [
        "# Simple Multi-Agent Homework Chatbot\n",
        "\n",
        "class MathAgent:\n",
        "    def answer(self, question):\n",
        "        # very simple logic, can be expanded\n",
        "        if \"add\" in question or \"+\" in question:\n",
        "            try:\n",
        "                # evaluate small math expressions safely\n",
        "                result = eval(question.split(\"add\")[-1])\n",
        "                return f\"The answer is {result}\"\n",
        "            except:\n",
        "                return \"I can help with math problems like addition or multiplication!\"\n",
        "        return \"I'm your Math helper! Ask me about equations or numbers.\"\n",
        "\n",
        "class ScienceAgent:\n",
        "    def answer(self, question):\n",
        "        if \"planet\" in question:\n",
        "            return \"There are 8 planets in our solar system!\"\n",
        "        elif \"water\" in question:\n",
        "            return \"Water is made of hydrogen and oxygen (H₂O).\"\n",
        "        return \"I'm your Science helper! Ask me about biology, physics, or chemistry.\"\n",
        "\n",
        "class EnglishAgent:\n",
        "    def answer(self, question):\n",
        "        if \"noun\" in question:\n",
        "            return \"A noun is a word that names a person, place, or thing.\"\n",
        "        elif \"verb\" in question:\n",
        "            return \"A verb shows an action or a state of being.\"\n",
        "        return \"I'm your English helper! Ask me about grammar or writing.\"\n",
        "\n",
        "# Main Chatbot orchestrator\n",
        "class HomeworkChatbot:\n",
        "    def __init__(self):\n",
        "        self.agents = {\n",
        "            \"math\": MathAgent(),\n",
        "            \"science\": ScienceAgent(),\n",
        "            \"english\": EnglishAgent()\n",
        "        }\n",
        "\n",
        "    def route_question(self, question):\n",
        "        question = question.lower()\n",
        "        # Simple keyword-based routing\n",
        "        if any(word in question for word in [\"math\", \"add\", \"number\", \"+\", \"multiply\"]):\n",
        "            return self.agents[\"math\"].answer(question)\n",
        "        elif any(word in question for word in [\"science\", \"planet\", \"water\", \"chemistry\", \"physics\"]):\n",
        "            return self.agents[\"science\"].answer(question)\n",
        "        elif any(word in question for word in [\"english\", \"noun\", \"verb\", \"grammar\", \"essay\"]):\n",
        "            return self.agents[\"english\"].answer(question)\n",
        "        else:\n",
        "            return \"I'm not sure which subject that is — can you specify Math, Science, or English?\"\n",
        "\n",
        "# Run chatbot\n",
        "if __name__ == \"__main__\":\n",
        "    bot = HomeworkChatbot()\n",
        "    print(\"🤖 Homework Helper Bot: Ask me your question! (type 'quit' to exit)\\n\")\n",
        "\n",
        "    while True:\n",
        "        user_input = input(\"You: \")\n",
        "        if user_input.lower() == \"quit\":\n",
        "            break\n",
        "        print(\"Bot:\", bot.route_question(user_input))\n"
      ]
    },
    {
      "cell_type": "code",
      "source": [
        "!pip install langchain langchain-community langchain-openai\n"
      ],
      "metadata": {
        "colab": {
          "base_uri": "https://localhost:8080/",
          "height": 1000
        },
        "id": "o0aO2G3fHsUB",
        "outputId": "263774fe-eebc-4342-8a0f-e1c0bc2b2cee"
      },
      "execution_count": null,
      "outputs": [
        {
          "output_type": "stream",
          "name": "stdout",
          "text": [
            "Requirement already satisfied: langchain in /usr/local/lib/python3.12/dist-packages (0.3.27)\n",
            "Collecting langchain-community\n",
            "  Downloading langchain_community-0.4-py3-none-any.whl.metadata (3.0 kB)\n",
            "Collecting langchain-openai\n",
            "  Downloading langchain_openai-1.0.1-py3-none-any.whl.metadata (1.8 kB)\n",
            "Requirement already satisfied: langchain-core<1.0.0,>=0.3.72 in /usr/local/lib/python3.12/dist-packages (from langchain) (0.3.79)\n",
            "Requirement already satisfied: langchain-text-splitters<1.0.0,>=0.3.9 in /usr/local/lib/python3.12/dist-packages (from langchain) (0.3.11)\n",
            "Requirement already satisfied: langsmith>=0.1.17 in /usr/local/lib/python3.12/dist-packages (from langchain) (0.4.37)\n",
            "Requirement already satisfied: pydantic<3.0.0,>=2.7.4 in /usr/local/lib/python3.12/dist-packages (from langchain) (2.11.10)\n",
            "Requirement already satisfied: SQLAlchemy<3,>=1.4 in /usr/local/lib/python3.12/dist-packages (from langchain) (2.0.44)\n",
            "Requirement already satisfied: requests<3,>=2 in /usr/local/lib/python3.12/dist-packages (from langchain) (2.32.4)\n",
            "Requirement already satisfied: PyYAML>=5.3 in /usr/local/lib/python3.12/dist-packages (from langchain) (6.0.3)\n",
            "INFO: pip is looking at multiple versions of langchain-community to determine which version is compatible with other requirements. This could take a while.\n",
            "Collecting langchain-community\n",
            "  Downloading langchain_community-0.3.31-py3-none-any.whl.metadata (3.0 kB)\n",
            "Collecting requests<3,>=2 (from langchain)\n",
            "  Downloading requests-2.32.5-py3-none-any.whl.metadata (4.9 kB)\n",
            "Requirement already satisfied: aiohttp<4.0.0,>=3.8.3 in /usr/local/lib/python3.12/dist-packages (from langchain-community) (3.13.1)\n",
            "Requirement already satisfied: tenacity!=8.4.0,<10.0.0,>=8.1.0 in /usr/local/lib/python3.12/dist-packages (from langchain-community) (8.5.0)\n",
            "Collecting dataclasses-json<0.7.0,>=0.6.7 (from langchain-community)\n",
            "  Downloading dataclasses_json-0.6.7-py3-none-any.whl.metadata (25 kB)\n",
            "Requirement already satisfied: pydantic-settings<3.0.0,>=2.10.1 in /usr/local/lib/python3.12/dist-packages (from langchain-community) (2.11.0)\n",
            "Requirement already satisfied: httpx-sse<1.0.0,>=0.4.0 in /usr/local/lib/python3.12/dist-packages (from langchain-community) (0.4.3)\n",
            "Requirement already satisfied: numpy>=1.26.2 in /usr/local/lib/python3.12/dist-packages (from langchain-community) (2.0.2)\n",
            "INFO: pip is looking at multiple versions of langchain-openai to determine which version is compatible with other requirements. This could take a while.\n",
            "Collecting langchain-openai\n",
            "  Downloading langchain_openai-1.0.0-py3-none-any.whl.metadata (1.8 kB)\n",
            "  Downloading langchain_openai-0.3.35-py3-none-any.whl.metadata (2.4 kB)\n",
            "Requirement already satisfied: openai<3.0.0,>=1.104.2 in /usr/local/lib/python3.12/dist-packages (from langchain-openai) (1.109.1)\n",
            "Requirement already satisfied: tiktoken<1.0.0,>=0.7.0 in /usr/local/lib/python3.12/dist-packages (from langchain-openai) (0.12.0)\n",
            "Requirement already satisfied: aiohappyeyeballs>=2.5.0 in /usr/local/lib/python3.12/dist-packages (from aiohttp<4.0.0,>=3.8.3->langchain-community) (2.6.1)\n",
            "Requirement already satisfied: aiosignal>=1.4.0 in /usr/local/lib/python3.12/dist-packages (from aiohttp<4.0.0,>=3.8.3->langchain-community) (1.4.0)\n",
            "Requirement already satisfied: attrs>=17.3.0 in /usr/local/lib/python3.12/dist-packages (from aiohttp<4.0.0,>=3.8.3->langchain-community) (25.4.0)\n",
            "Requirement already satisfied: frozenlist>=1.1.1 in /usr/local/lib/python3.12/dist-packages (from aiohttp<4.0.0,>=3.8.3->langchain-community) (1.8.0)\n",
            "Requirement already satisfied: multidict<7.0,>=4.5 in /usr/local/lib/python3.12/dist-packages (from aiohttp<4.0.0,>=3.8.3->langchain-community) (6.7.0)\n",
            "Requirement already satisfied: propcache>=0.2.0 in /usr/local/lib/python3.12/dist-packages (from aiohttp<4.0.0,>=3.8.3->langchain-community) (0.4.1)\n",
            "Requirement already satisfied: yarl<2.0,>=1.17.0 in /usr/local/lib/python3.12/dist-packages (from aiohttp<4.0.0,>=3.8.3->langchain-community) (1.22.0)\n",
            "Collecting marshmallow<4.0.0,>=3.18.0 (from dataclasses-json<0.7.0,>=0.6.7->langchain-community)\n",
            "  Downloading marshmallow-3.26.1-py3-none-any.whl.metadata (7.3 kB)\n",
            "Collecting typing-inspect<1,>=0.4.0 (from dataclasses-json<0.7.0,>=0.6.7->langchain-community)\n",
            "  Downloading typing_inspect-0.9.0-py3-none-any.whl.metadata (1.5 kB)\n",
            "Requirement already satisfied: jsonpatch<2.0.0,>=1.33.0 in /usr/local/lib/python3.12/dist-packages (from langchain-core<1.0.0,>=0.3.72->langchain) (1.33)\n",
            "Requirement already satisfied: typing-extensions<5.0.0,>=4.7.0 in /usr/local/lib/python3.12/dist-packages (from langchain-core<1.0.0,>=0.3.72->langchain) (4.15.0)\n",
            "Requirement already satisfied: packaging<26.0.0,>=23.2.0 in /usr/local/lib/python3.12/dist-packages (from langchain-core<1.0.0,>=0.3.72->langchain) (25.0)\n",
            "Requirement already satisfied: httpx<1,>=0.23.0 in /usr/local/lib/python3.12/dist-packages (from langsmith>=0.1.17->langchain) (0.28.1)\n",
            "Requirement already satisfied: orjson>=3.9.14 in /usr/local/lib/python3.12/dist-packages (from langsmith>=0.1.17->langchain) (3.11.3)\n",
            "Requirement already satisfied: requests-toolbelt>=1.0.0 in /usr/local/lib/python3.12/dist-packages (from langsmith>=0.1.17->langchain) (1.0.0)\n",
            "Requirement already satisfied: zstandard>=0.23.0 in /usr/local/lib/python3.12/dist-packages (from langsmith>=0.1.17->langchain) (0.25.0)\n",
            "Requirement already satisfied: anyio<5,>=3.5.0 in /usr/local/lib/python3.12/dist-packages (from openai<3.0.0,>=1.104.2->langchain-openai) (4.11.0)\n",
            "Requirement already satisfied: distro<2,>=1.7.0 in /usr/local/lib/python3.12/dist-packages (from openai<3.0.0,>=1.104.2->langchain-openai) (1.9.0)\n",
            "Requirement already satisfied: jiter<1,>=0.4.0 in /usr/local/lib/python3.12/dist-packages (from openai<3.0.0,>=1.104.2->langchain-openai) (0.11.1)\n",
            "Requirement already satisfied: sniffio in /usr/local/lib/python3.12/dist-packages (from openai<3.0.0,>=1.104.2->langchain-openai) (1.3.1)\n",
            "Requirement already satisfied: tqdm>4 in /usr/local/lib/python3.12/dist-packages (from openai<3.0.0,>=1.104.2->langchain-openai) (4.67.1)\n",
            "Requirement already satisfied: annotated-types>=0.6.0 in /usr/local/lib/python3.12/dist-packages (from pydantic<3.0.0,>=2.7.4->langchain) (0.7.0)\n",
            "Requirement already satisfied: pydantic-core==2.33.2 in /usr/local/lib/python3.12/dist-packages (from pydantic<3.0.0,>=2.7.4->langchain) (2.33.2)\n",
            "Requirement already satisfied: typing-inspection>=0.4.0 in /usr/local/lib/python3.12/dist-packages (from pydantic<3.0.0,>=2.7.4->langchain) (0.4.2)\n",
            "Requirement already satisfied: python-dotenv>=0.21.0 in /usr/local/lib/python3.12/dist-packages (from pydantic-settings<3.0.0,>=2.10.1->langchain-community) (1.1.1)\n",
            "Requirement already satisfied: charset_normalizer<4,>=2 in /usr/local/lib/python3.12/dist-packages (from requests<3,>=2->langchain) (3.4.4)\n",
            "Requirement already satisfied: idna<4,>=2.5 in /usr/local/lib/python3.12/dist-packages (from requests<3,>=2->langchain) (3.11)\n",
            "Requirement already satisfied: urllib3<3,>=1.21.1 in /usr/local/lib/python3.12/dist-packages (from requests<3,>=2->langchain) (2.5.0)\n",
            "Requirement already satisfied: certifi>=2017.4.17 in /usr/local/lib/python3.12/dist-packages (from requests<3,>=2->langchain) (2025.10.5)\n",
            "Requirement already satisfied: greenlet>=1 in /usr/local/lib/python3.12/dist-packages (from SQLAlchemy<3,>=1.4->langchain) (3.2.4)\n",
            "Requirement already satisfied: regex>=2022.1.18 in /usr/local/lib/python3.12/dist-packages (from tiktoken<1.0.0,>=0.7.0->langchain-openai) (2024.11.6)\n",
            "Requirement already satisfied: httpcore==1.* in /usr/local/lib/python3.12/dist-packages (from httpx<1,>=0.23.0->langsmith>=0.1.17->langchain) (1.0.9)\n",
            "Requirement already satisfied: h11>=0.16 in /usr/local/lib/python3.12/dist-packages (from httpcore==1.*->httpx<1,>=0.23.0->langsmith>=0.1.17->langchain) (0.16.0)\n",
            "Requirement already satisfied: jsonpointer>=1.9 in /usr/local/lib/python3.12/dist-packages (from jsonpatch<2.0.0,>=1.33.0->langchain-core<1.0.0,>=0.3.72->langchain) (3.0.0)\n",
            "Collecting mypy-extensions>=0.3.0 (from typing-inspect<1,>=0.4.0->dataclasses-json<0.7.0,>=0.6.7->langchain-community)\n",
            "  Downloading mypy_extensions-1.1.0-py3-none-any.whl.metadata (1.1 kB)\n",
            "Downloading langchain_community-0.3.31-py3-none-any.whl (2.5 MB)\n",
            "\u001b[2K   \u001b[90m━━━━━━━━━━━━━━━━━━━━━━━━━━━━━━━━━━━━━━━━\u001b[0m \u001b[32m2.5/2.5 MB\u001b[0m \u001b[31m38.1 MB/s\u001b[0m eta \u001b[36m0:00:00\u001b[0m\n",
            "\u001b[?25hDownloading langchain_openai-0.3.35-py3-none-any.whl (75 kB)\n",
            "\u001b[2K   \u001b[90m━━━━━━━━━━━━━━━━━━━━━━━━━━━━━━━━━━━━━━━━\u001b[0m \u001b[32m76.0/76.0 kB\u001b[0m \u001b[31m5.5 MB/s\u001b[0m eta \u001b[36m0:00:00\u001b[0m\n",
            "\u001b[?25hDownloading dataclasses_json-0.6.7-py3-none-any.whl (28 kB)\n",
            "Downloading requests-2.32.5-py3-none-any.whl (64 kB)\n",
            "\u001b[2K   \u001b[90m━━━━━━━━━━━━━━━━━━━━━━━━━━━━━━━━━━━━━━━━\u001b[0m \u001b[32m64.7/64.7 kB\u001b[0m \u001b[31m3.9 MB/s\u001b[0m eta \u001b[36m0:00:00\u001b[0m\n",
            "\u001b[?25hDownloading marshmallow-3.26.1-py3-none-any.whl (50 kB)\n",
            "\u001b[2K   \u001b[90m━━━━━━━━━━━━━━━━━━━━━━━━━━━━━━━━━━━━━━━━\u001b[0m \u001b[32m50.9/50.9 kB\u001b[0m \u001b[31m3.0 MB/s\u001b[0m eta \u001b[36m0:00:00\u001b[0m\n",
            "\u001b[?25hDownloading typing_inspect-0.9.0-py3-none-any.whl (8.8 kB)\n",
            "Downloading mypy_extensions-1.1.0-py3-none-any.whl (5.0 kB)\n",
            "Installing collected packages: requests, mypy-extensions, marshmallow, typing-inspect, dataclasses-json, langchain-openai, langchain-community\n",
            "  Attempting uninstall: requests\n",
            "    Found existing installation: requests 2.32.4\n",
            "    Uninstalling requests-2.32.4:\n",
            "      Successfully uninstalled requests-2.32.4\n",
            "\u001b[31mERROR: pip's dependency resolver does not currently take into account all the packages that are installed. This behaviour is the source of the following dependency conflicts.\n",
            "google-colab 1.0.0 requires requests==2.32.4, but you have requests 2.32.5 which is incompatible.\u001b[0m\u001b[31m\n",
            "\u001b[0mSuccessfully installed dataclasses-json-0.6.7 langchain-community-0.3.31 langchain-openai-0.3.35 marshmallow-3.26.1 mypy-extensions-1.1.0 requests-2.32.5 typing-inspect-0.9.0\n"
          ]
        },
        {
          "output_type": "display_data",
          "data": {
            "application/vnd.colab-display-data+json": {
              "pip_warning": {
                "packages": [
                  "requests"
                ]
              },
              "id": "e91524fbd8544051b686bcacf39422a4"
            }
          },
          "metadata": {}
        }
      ]
    },
    {
      "cell_type": "code",
      "source": [],
      "metadata": {
        "id": "mX2kmRuyKHti"
      },
      "execution_count": null,
      "outputs": []
    },
    {
      "cell_type": "code",
      "source": [
        "import os\n",
        "os.environ[\"OPENAI_API_KEY\"] = \"api_key_here\"\n"
      ],
      "metadata": {
        "id": "9XmhcSUtIXht"
      },
      "execution_count": 8,
      "outputs": []
    },
    {
      "cell_type": "code",
      "source": [
        "from langchain_openai import ChatOpenAI\n",
        "from langchain.schema import SystemMessage, HumanMessage\n",
        "import os\n",
        "\n",
        "# Set the environment variable within the script\n",
        "# Replace 'YOUR_API_KEY' with your actual API key or a variable holding it\n",
        "# Example: os.environ[\"OPENAI_API_KEY\"] = 'YOUR_API_KEY'\n",
        "\n",
        "# If you are using Colab Secrets Manager, you can access your API key like this:\n",
        "# from google.colab import userdata\n",
        "# os.environ[\"OPENAI_API_KEY\"] = userdata.get('OPENAI_API_KEY')\n",
        "\n",
        "\n",
        "# === Subject-Specific Agents ===\n",
        "class BaseAgent:\n",
        "    def __init__(self, subject):\n",
        "        self.subject = subject\n",
        "        self.llm = ChatOpenAI(model=\"gpt-4o-mini\", temperature=0.5)\n",
        "\n",
        "    def answer(self, question):\n",
        "        \"\"\"Agent specialized in a given subject.\"\"\"\n",
        "        system_prompt = f\"You are a helpful {self.subject} tutor. Explain clearly and simply for students.\"\n",
        "        messages = [\n",
        "            SystemMessage(content=system_prompt),\n",
        "            HumanMessage(content=question)\n",
        "        ]\n",
        "        return self.llm(messages).content\n",
        "\n",
        "\n",
        "class MathAgent(BaseAgent):\n",
        "    def __init__(self):\n",
        "        super().__init__(\"math\")\n",
        "\n",
        "\n",
        "class ScienceAgent(BaseAgent):\n",
        "    def __init__(self):\n",
        "        super().__init__(\"science\")\n",
        "\n",
        "\n",
        "class EnglishAgent(BaseAgent):\n",
        "    def __init__(self):\n",
        "        super().__init__(\"english\")\n",
        "\n",
        "\n",
        "# === Router Agent (LLM decides which agent to use) ===\n",
        "class RouterAgent:\n",
        "    def __init__(self):\n",
        "        self.llm = ChatOpenAI(model=\"gpt-4o-mini\", temperature=0)\n",
        "\n",
        "    def choose_subject(self, question):\n",
        "        \"\"\"Ask LLM to route to the correct subject.\"\"\"\n",
        "        system_prompt = (\n",
        "            \"You are a routing assistant. \"\n",
        "            \"Given a student's question, respond with ONLY ONE WORD: \"\n",
        "            \"'math', 'science', or 'english' based on which expert should answer.\"\n",
        "        )\n",
        "        messages = [\n",
        "            SystemMessage(content=system_prompt),\n",
        "            HumanMessage(content=question)\n",
        "        ]\n",
        "        response = self.llm(messages).content.strip().lower()\n",
        "        if response not in [\"math\", \"science\", \"english\"]:\n",
        "            return \"unknown\"\n",
        "        return response\n",
        "\n",
        "\n",
        "# === Main Orchestrator ===\n",
        "class HomeworkChatbot:\n",
        "    def __init__(self):\n",
        "        self.router = RouterAgent()\n",
        "        self.agents = {\n",
        "            \"math\": MathAgent(),\n",
        "            \"science\": ScienceAgent(),\n",
        "            \"english\": EnglishAgent()\n",
        "        }\n",
        "\n",
        "    def get_answer(self, question):\n",
        "        subject = self.router.choose_subject(question)\n",
        "        if subject == \"unknown\":\n",
        "            return \"I'm not sure which subject that question belongs to. Try mentioning Math, Science, or English.\"\n",
        "        return self.agents[subject].answer(question)\n",
        "\n",
        "\n",
        "# === Run the Chatbot ===\n",
        "if __name__ == \"__main__\":\n",
        "    bot = HomeworkChatbot()\n",
        "    print(\"🤖 Smart Homework Helper (multi-agent): Type 'quit' to exit\\n\")\n",
        "\n",
        "    while True:\n",
        "        user_input = input(\"You: \")\n",
        "        if user_input.lower() == \"quit\":\n",
        "            break\n",
        "        print(\"Bot:\", bot.get_answer(user_input))"
      ],
      "metadata": {
        "colab": {
          "base_uri": "https://localhost:8080/"
        },
        "id": "Bhq9e1MfIySG",
        "outputId": "984efe26-9ce5-4bdd-d47f-d6bd219887a3"
      },
      "execution_count": null,
      "outputs": [
        {
          "name": "stdout",
          "output_type": "stream",
          "text": [
            "🤖 Smart Homework Helper (multi-agent): Type 'quit' to exit\n",
            "\n",
            "You: history of india\n",
            "Bot: ('The history of India is rich and diverse, spanning thousands of years. Here’s a simple overview of some key periods and events:\\n\\n### 1. **Ancient India (c. 2500 BCE - c. 500 CE)**\\n   - **Indus Valley Civilization (c. 2500 - 1500 BCE)**: One of the world’s earliest urban cultures, known for its advanced cities like Harappa and Mohenjo-Daro.\\n   - **Vedic Period (c. 1500 - 500 BCE)**: Marked by the arrival of the Indo-Aryans, who composed the Vedas, ancient texts that are foundational to Hinduism.\\n   - **Maurya Empire (c. 322 - 185 BCE)**: Founded by Chandragupta Maurya, it became one of the largest empires in ancient India, with notable leaders like Ashoka, who promoted Buddhism.\\n\\n### 2. **Classical India (c. 500 - 1200 CE)**\\n   - **Gupta Empire (c. 320 - 550 CE)**: Known as the \"Golden Age\" of India, it saw advancements in science, mathematics, art, and literature.\\n   - **Buddhism and Jainism**: These religions flourished during this period, spreading throughout India and beyond.\\n\\n### 3. **Medieval India (c. 1200 - 1700 CE)**\\n   - **Delhi Sultanate (c. 1206 - 1526)**: A series of Muslim dynasties that ruled parts of India, contributing to cultural and architectural developments.\\n   - **Mughal Empire (c. 1526 - 1857)**: Established by Babur, it is famous for its architecture (like the Taj Mahal) and for leaders like Akbar, who promoted tolerance and culture.\\n\\n### 4. **Colonial India (c. 1700 - 1947)**\\n   - **British East India Company**: Initially a trading company, it gradually took control over large parts of India.\\n   - **British Raj (1858 - 1947)**: Direct British rule over India began after the 1857 rebellion. This period saw significant changes in infrastructure, education, and the economy but also led to exploitation and resistance.\\n\\n### 5. **Independence Movement (c. 1900 - 1947)**\\n   - **Key Figures**: Leaders like Mahatma Gandhi, Jawaharlal Nehru, and Subhas Chandra Bose played crucial roles in the struggle for independence.\\n   - **Partition of India (1947)**: India gained independence from British rule, but it was divided into two countries: India and Pakistan, leading to significant upheaval and migration.\\n\\n### 6. **Post-Independence (1947 - Present)**\\n   - **Democratic Republic**: India adopted a constitution in 1950 and became a secular democratic republic.\\n   - **Economic Growth**: Over the years, India has developed into one of the world’s largest economies, with advancements in technology, industry, and education.\\n\\n### Conclusion\\nIndia’s history is characterized by a blend of various cultures, religions, and traditions. It has faced challenges and changes but continues to grow and evolve as a nation.', 'english')\n",
            "You: quit\n"
          ]
        }
      ]
    },
    {
      "cell_type": "code",
      "source": [],
      "metadata": {
        "id": "HJ_PXkg8Ju9v"
      },
      "execution_count": null,
      "outputs": []
    }
  ]
}